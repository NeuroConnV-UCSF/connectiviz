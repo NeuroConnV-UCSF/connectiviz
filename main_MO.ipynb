{
 "cells": [
  {
   "cell_type": "code",
   "execution_count": 1,
   "metadata": {},
   "outputs": [
    {
     "ename": "TypeError",
     "evalue": "count_inter_network_connectivity() missing 4 required positional arguments: 'original_timeseries', 'new_timeseries', 'network_json_path', and 'network_names'",
     "output_type": "error",
     "traceback": [
      "\u001b[1;31m---------------------------------------------------------------------------\u001b[0m",
      "\u001b[1;31mTypeError\u001b[0m                                 Traceback (most recent call last)",
      "Cell \u001b[1;32mIn[1], line 4\u001b[0m\n\u001b[0;32m      2\u001b[0m \u001b[38;5;28;01mimport\u001b[39;00m \u001b[38;5;21;01mpandas\u001b[39;00m \u001b[38;5;28;01mas\u001b[39;00m \u001b[38;5;21;01mpd\u001b[39;00m\n\u001b[0;32m      3\u001b[0m \u001b[38;5;28;01mfrom\u001b[39;00m \u001b[38;5;21;01mconnectiviz\u001b[39;00m\u001b[38;5;21;01m.\u001b[39;00m\u001b[38;5;21;01mload_networks\u001b[39;00m \u001b[38;5;28;01mimport\u001b[39;00m create_mapped_timeseries, load_network_names\n\u001b[1;32m----> 4\u001b[0m \u001b[38;5;28;01mfrom\u001b[39;00m \u001b[38;5;21;01mconnectiviz\u001b[39;00m\u001b[38;5;21;01m.\u001b[39;00m\u001b[38;5;21;01mcalculating_connectivity\u001b[39;00m \u001b[38;5;28;01mimport\u001b[39;00m calculate_intra_network_connectivity, calculate_inter_network_connectivity\n\u001b[0;32m      5\u001b[0m \u001b[38;5;28;01mfrom\u001b[39;00m \u001b[38;5;21;01mconnectiviz\u001b[39;00m\u001b[38;5;21;01m.\u001b[39;00m\u001b[38;5;21;01mplots\u001b[39;00m \u001b[38;5;28;01mimport\u001b[39;00m plot_inter_intra_network_connectivity, plot_correlation_matrix\n\u001b[0;32m      8\u001b[0m \u001b[38;5;28;01mimport\u001b[39;00m \u001b[38;5;21;01mnumpy\u001b[39;00m \u001b[38;5;28;01mas\u001b[39;00m \u001b[38;5;21;01mnp\u001b[39;00m\n",
      "File \u001b[1;32mc:\\users\\molly\\documents\\code\\connectiviz\\connectiviz\\connectiviz\\calculating_connectivity.py:124\u001b[0m\n\u001b[0;32m    121\u001b[0m                     inter_network_counter[key] \u001b[38;5;241m=\u001b[39m \u001b[38;5;28mlen\u001b[39m(correlation_values)\n\u001b[0;32m    122\u001b[0m     \u001b[38;5;28;01mreturn\u001b[39;00m inter_network_counter\n\u001b[1;32m--> 124\u001b[0m connectivity_count \u001b[38;5;241m=\u001b[39m \u001b[43mcount_inter_network_connectivity\u001b[49m\u001b[43m(\u001b[49m\u001b[43m)\u001b[49m\n",
      "\u001b[1;31mTypeError\u001b[0m: count_inter_network_connectivity() missing 4 required positional arguments: 'original_timeseries', 'new_timeseries', 'network_json_path', and 'network_names'"
     ]
    }
   ],
   "source": [
    "import connectiviz\n",
    "import pandas as pd\n",
    "from connectiviz.load_networks import create_mapped_timeseries, load_network_names\n",
    "from connectiviz.calculating_connectivity import calculate_intra_network_connectivity, calculate_inter_network_connectivity\n",
    "from connectiviz.plots import plot_inter_intra_network_connectivity, plot_correlation_matrix\n",
    "\n",
    "\n",
    "import numpy as np\n",
    "import pandas as pd\n",
    "import os\n",
    "import seaborn as sns\n",
    "import scipy\n",
    "import matplotlib.pyplot as plt\n",
    "import json"
   ]
  },
  {
   "cell_type": "code",
   "execution_count": 19,
   "metadata": {},
   "outputs": [],
   "source": [
    "# Single subject parameters and data locations\n",
    "parent_dir = '/Users/molly/Documents/code'\n",
    "timeseries_csv = ('/Users/molly/Documents/code/13281_2016-10-14_rois_timeseries.csv')\n",
    "network_json_path = '/Users/molly/Documents/code/connectiviz/data/Yeo_7network_names.json'\n",
    "subregions_csv = '/Users/molly/Documents/code/connectiviz/data/subregions_Yeo7networks.csv'"
   ]
  },
  {
   "cell_type": "code",
   "execution_count": null,
   "metadata": {},
   "outputs": [],
   "source": [
    "original_timeseries = pd.read_csv(timeseries_csv)\n",
    "original_timeseries = original_timeseries.drop(original_timeseries.columns[233], axis=1)\n",
    "\n",
    "networks = pd.read_csv(subregions_csv)\n",
    "network_names = load_network_names(network_json_path)\n",
    "ordered_networks = network_names.keys()\n",
    "network_mapping = networks.set_index('Label')['Yeo_7network'].to_dict()\n",
    "mapped_timeseries = original_timeseries.iloc[:, 0].map(network_mapping)\n",
    "new_timeseries = original_timeseries.iloc[:, 4:]\n",
    "new_timeseries['Yeo_7network'] = mapped_timeseries\n",
    "original_timeseries = original_timeseries.iloc[:, 4:]"
   ]
  },
  {
   "cell_type": "code",
   "execution_count": null,
   "metadata": {},
   "outputs": [],
   "source": [
    "# Intra-Network Connectivity\n",
    "intra_network_connectivity = calculate_intra_network_connectivity(original_timeseries, new_timeseries, network_json_path, network_names)\n",
    "# Inter-Network Connectivity\n",
    "inter_network_connectivity = calculate_inter_network_connectivity(original_timeseries, new_timeseries, network_json_path, network_names)\n",
    "# Both plots\n",
    "corr_matrix, plot_labels = plot_inter_intra_network_connectivity(intra_network_connectivity, inter_network_connectivity, ordered_networks, network_json_path, network_names)\n",
    "# Plot correlation matrix with circles\n",
    "# new_matrix = corr_matrix.to_numpy()\n",
    "# plot_correlation_matrix(new_matrix, plot_labels)\n"
   ]
  },
  {
   "cell_type": "code",
   "execution_count": null,
   "metadata": {},
   "outputs": [],
   "source": [
    "def plot_correlation_matrix(matrix_df,network_labels, max_size=2000):\n",
    "    # Calculate the size and color of each dot based on the correlation value\n",
    "    x, y = np.meshgrid(np.arange(matrix_df.shape[0]), np.arange(matrix_df.shape[1]))\n",
    "    x = x.flatten()\n",
    "    y = y.flatten()\n",
    "    size = matrix_df.flatten() * max_size\n",
    "    color = matrix_df.flatten()\n",
    "\n",
    "    # Makes a mask to show only bottom triangle of data\n",
    "    mask = np.tril(np.ones_like(matrix_df, dtype=bool))\n",
    "    x_masked = x[mask.flatten()]\n",
    "    y_masked = y[mask.flatten()]\n",
    "    size_masked = size[mask.flatten()]\n",
    "    color_masked = color[mask.flatten()]\n",
    "    plt.scatter(x_masked+0.5, y_masked+0.5, s=size_masked, c=color_masked, cmap='coolwarm',vmin=0.1)\n",
    "\n",
    "    # Add labels and title\n",
    "    plt.title(\"Inter-Network Connectivity\")\n",
    "    #plt.xticks(np.arange(len(network_labels)), labels=network_labels, rotation=45)\n",
    "    #plt.yticks(np.arange(len(network_labels)), labels=network_labels)\n",
    "    plt.ylim(len(network_labels), -1)\n",
    "\n",
    "    x_ticks = np.unique(x_masked)\n",
    "    y_ticks = np.unique(y_masked)\n",
    "\n",
    "    # Add grid lines at the midpoints between circle positions\n",
    "    plt.xticks(np.arange(len(network_labels)) +0.5, labels=network_labels, rotation=90, ha='center', va='top')\n",
    "    plt.yticks(np.arange(len(network_labels)) +0.5, labels=network_labels, va='center')\n",
    "\n",
    "    #plt.grid(True)\n",
    "    plt.colorbar()\n",
    "    plt.show()\n",
    "\n",
    "new_matrix = corr_matrix.to_numpy()\n",
    "plot_correlation_matrix(new_matrix, plot_labels)"
   ]
  },
  {
   "cell_type": "code",
   "execution_count": 23,
   "metadata": {},
   "outputs": [
    {
     "data": {
      "text/plain": [
       "{(1, 2): 2244,\n",
       " (1, 3): 2040,\n",
       " (1, 4): 1496,\n",
       " (1, 5): 1768,\n",
       " (1, 6): 1700,\n",
       " (1, 7): 2448,\n",
       " (2, 1): 2244,\n",
       " (2, 3): 1980,\n",
       " (2, 4): 1452,\n",
       " (2, 5): 1716,\n",
       " (2, 6): 1650,\n",
       " (2, 7): 2376,\n",
       " (3, 1): 2040,\n",
       " (3, 2): 1980,\n",
       " (3, 4): 1320,\n",
       " (3, 5): 1560,\n",
       " (3, 6): 1500,\n",
       " (3, 7): 2160,\n",
       " (4, 1): 1496,\n",
       " (4, 2): 1452,\n",
       " (4, 3): 1320,\n",
       " (4, 5): 1144,\n",
       " (4, 6): 1100,\n",
       " (4, 7): 1584,\n",
       " (5, 1): 1768,\n",
       " (5, 2): 1716,\n",
       " (5, 3): 1560,\n",
       " (5, 4): 1144,\n",
       " (5, 6): 1300,\n",
       " (5, 7): 1872,\n",
       " (6, 1): 1700,\n",
       " (6, 2): 1650,\n",
       " (6, 3): 1500,\n",
       " (6, 4): 1100,\n",
       " (6, 5): 1300,\n",
       " (6, 7): 1800,\n",
       " (7, 1): 2448,\n",
       " (7, 2): 2376,\n",
       " (7, 3): 2160,\n",
       " (7, 4): 1584,\n",
       " (7, 5): 1872,\n",
       " (7, 6): 1800}"
      ]
     },
     "execution_count": 23,
     "metadata": {},
     "output_type": "execute_result"
    }
   ],
   "source": [
    "#Inter-Network Connectivity Counter \n",
    "def count_inter_network_connectivity(original_timeseries, new_timeseries, network_json_path, network_names):\n",
    "    \"\"\"\n",
    "    Inter-Network Connectivity\n",
    "    \n",
    "    Inputs:\n",
    "    - orginal single-subject timeseries\n",
    "    - new timeseries\n",
    "    - path to the network names\n",
    "    - network names\n",
    "\n",
    "    Parameters:\n",
    "    - Key of network numbers mapped to network names (ordered_networks)\n",
    "    - Iterates over pairs of networks (network_i, network_j)\n",
    "    - For each network pair, it selects the relevant data from original_timeseries based on the network labels in new_timeseries['Yeo_7network']\n",
    "    - Calculates the correlation between each pair of rows (one from each network) and then gets the average correlations\n",
    "\n",
    "    Returns:\n",
    "    - Inter-network connectivity average correlation matrix\n",
    "    \"\"\"\n",
    "    inter_network_connectivity = {}\n",
    "    inter_network_counter = {}  # Counter for the number of correlation values\n",
    "    ordered_networks = network_names.keys()\n",
    "    for i, network_i in enumerate(ordered_networks):\n",
    "        for j, network_j in enumerate(ordered_networks):\n",
    "            if network_i != network_j and network_i != 0 and network_j != 0:\n",
    "                data_i = original_timeseries[new_timeseries['Yeo_7network'] == network_i]\n",
    "                data_j = original_timeseries[new_timeseries['Yeo_7network'] == network_j]\n",
    "                correlation_values = []\n",
    "\n",
    "                for index_i, row_i in data_i.iterrows():\n",
    "                    for index_j, row_j in data_j.iterrows():\n",
    "                        correlation_values.append(row_i.corr(row_j))\n",
    "\n",
    "                for index_i, row_i in data_i.iterrows():\n",
    "                    for index_j, row_j in data_j.iterrows():\n",
    "                        correlation_values.append(row_i.corr(row_j))\n",
    "                average_corr = np.mean(correlation_values)\n",
    "                key = (network_i, network_j)\n",
    "                inter_network_connectivity[key] = average_corr\n",
    "                # Update the counter\n",
    "                if key in inter_network_counter:\n",
    "                    inter_network_counter[key] += len(correlation_values)\n",
    "                else:\n",
    "                    inter_network_counter[key] = len(correlation_values)\n",
    "    return inter_network_counter\n",
    "\n",
    "connectivity_count = count_inter_network_connectivity(original_timeseries, new_timeseries, network_json_path, network_names)\n",
    "connectivity_count"
   ]
  }
 ],
 "metadata": {
  "kernelspec": {
   "display_name": "Python 3.9.6 64-bit",
   "language": "python",
   "name": "python3"
  },
  "language_info": {
   "codemirror_mode": {
    "name": "ipython",
    "version": 3
   },
   "file_extension": ".py",
   "mimetype": "text/x-python",
   "name": "python",
   "nbconvert_exporter": "python",
   "pygments_lexer": "ipython3",
   "version": "3.9.6"
  },
  "vscode": {
   "interpreter": {
    "hash": "31f2aee4e71d21fbe5cf8b01ff0e069b9275f58929596ceb00d14d90e3e16cd6"
   }
  }
 },
 "nbformat": 4,
 "nbformat_minor": 2
}
